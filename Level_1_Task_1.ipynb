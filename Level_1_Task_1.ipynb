{
 "cells": [
  {
   "cell_type": "markdown",
   "id": "1a80a8ed-96cc-4d0f-b8f5-870bcbeda85b",
   "metadata": {},
   "source": [
    "## 1: Import Libraries and Load the Dataset"
   ]
  },
  {
   "cell_type": "code",
   "execution_count": 1,
   "id": "b4c1c621-c27e-44d9-b2d1-2f2f0bee7b74",
   "metadata": {},
   "outputs": [],
   "source": [
    "# Import necessary libraries\n",
    "import pandas as pd\n",
    "import numpy as np\n",
    "import matplotlib.pyplot as plt\n",
    "import seaborn as sns"
   ]
  },
  {
   "cell_type": "code",
   "execution_count": 3,
   "id": "1176bc63-23b2-4c27-a369-5691214a0506",
   "metadata": {},
   "outputs": [],
   "source": [
    "# Load the dataset\n",
    "df = pd.read_csv(\"C:\\\\Users\\\\amiro\\\\Desktop\\\\Internship cognifiz\\\\Dataset .csv\")"
   ]
  },
  {
   "cell_type": "code",
   "execution_count": 5,
   "id": "8cfb9b3c-8fe8-42b4-b7fa-1e75c3d1bb4c",
   "metadata": {},
   "outputs": [
    {
     "name": "stdout",
     "output_type": "stream",
     "text": [
      "Dataset loaded successfully!\n"
     ]
    },
    {
     "data": {
      "text/html": [
       "<div>\n",
       "<style scoped>\n",
       "    .dataframe tbody tr th:only-of-type {\n",
       "        vertical-align: middle;\n",
       "    }\n",
       "\n",
       "    .dataframe tbody tr th {\n",
       "        vertical-align: top;\n",
       "    }\n",
       "\n",
       "    .dataframe thead th {\n",
       "        text-align: right;\n",
       "    }\n",
       "</style>\n",
       "<table border=\"1\" class=\"dataframe\">\n",
       "  <thead>\n",
       "    <tr style=\"text-align: right;\">\n",
       "      <th></th>\n",
       "      <th>Restaurant ID</th>\n",
       "      <th>Restaurant Name</th>\n",
       "      <th>Country Code</th>\n",
       "      <th>City</th>\n",
       "      <th>Address</th>\n",
       "      <th>Locality</th>\n",
       "      <th>Locality Verbose</th>\n",
       "      <th>Longitude</th>\n",
       "      <th>Latitude</th>\n",
       "      <th>Cuisines</th>\n",
       "      <th>...</th>\n",
       "      <th>Currency</th>\n",
       "      <th>Has Table booking</th>\n",
       "      <th>Has Online delivery</th>\n",
       "      <th>Is delivering now</th>\n",
       "      <th>Switch to order menu</th>\n",
       "      <th>Price range</th>\n",
       "      <th>Aggregate rating</th>\n",
       "      <th>Rating color</th>\n",
       "      <th>Rating text</th>\n",
       "      <th>Votes</th>\n",
       "    </tr>\n",
       "  </thead>\n",
       "  <tbody>\n",
       "    <tr>\n",
       "      <th>0</th>\n",
       "      <td>6317637</td>\n",
       "      <td>Le Petit Souffle</td>\n",
       "      <td>162</td>\n",
       "      <td>Makati City</td>\n",
       "      <td>Third Floor, Century City Mall, Kalayaan Avenu...</td>\n",
       "      <td>Century City Mall, Poblacion, Makati City</td>\n",
       "      <td>Century City Mall, Poblacion, Makati City, Mak...</td>\n",
       "      <td>121.027535</td>\n",
       "      <td>14.565443</td>\n",
       "      <td>French, Japanese, Desserts</td>\n",
       "      <td>...</td>\n",
       "      <td>Botswana Pula(P)</td>\n",
       "      <td>Yes</td>\n",
       "      <td>No</td>\n",
       "      <td>No</td>\n",
       "      <td>No</td>\n",
       "      <td>3</td>\n",
       "      <td>4.8</td>\n",
       "      <td>Dark Green</td>\n",
       "      <td>Excellent</td>\n",
       "      <td>314</td>\n",
       "    </tr>\n",
       "    <tr>\n",
       "      <th>1</th>\n",
       "      <td>6304287</td>\n",
       "      <td>Izakaya Kikufuji</td>\n",
       "      <td>162</td>\n",
       "      <td>Makati City</td>\n",
       "      <td>Little Tokyo, 2277 Chino Roces Avenue, Legaspi...</td>\n",
       "      <td>Little Tokyo, Legaspi Village, Makati City</td>\n",
       "      <td>Little Tokyo, Legaspi Village, Makati City, Ma...</td>\n",
       "      <td>121.014101</td>\n",
       "      <td>14.553708</td>\n",
       "      <td>Japanese</td>\n",
       "      <td>...</td>\n",
       "      <td>Botswana Pula(P)</td>\n",
       "      <td>Yes</td>\n",
       "      <td>No</td>\n",
       "      <td>No</td>\n",
       "      <td>No</td>\n",
       "      <td>3</td>\n",
       "      <td>4.5</td>\n",
       "      <td>Dark Green</td>\n",
       "      <td>Excellent</td>\n",
       "      <td>591</td>\n",
       "    </tr>\n",
       "    <tr>\n",
       "      <th>2</th>\n",
       "      <td>6300002</td>\n",
       "      <td>Heat - Edsa Shangri-La</td>\n",
       "      <td>162</td>\n",
       "      <td>Mandaluyong City</td>\n",
       "      <td>Edsa Shangri-La, 1 Garden Way, Ortigas, Mandal...</td>\n",
       "      <td>Edsa Shangri-La, Ortigas, Mandaluyong City</td>\n",
       "      <td>Edsa Shangri-La, Ortigas, Mandaluyong City, Ma...</td>\n",
       "      <td>121.056831</td>\n",
       "      <td>14.581404</td>\n",
       "      <td>Seafood, Asian, Filipino, Indian</td>\n",
       "      <td>...</td>\n",
       "      <td>Botswana Pula(P)</td>\n",
       "      <td>Yes</td>\n",
       "      <td>No</td>\n",
       "      <td>No</td>\n",
       "      <td>No</td>\n",
       "      <td>4</td>\n",
       "      <td>4.4</td>\n",
       "      <td>Green</td>\n",
       "      <td>Very Good</td>\n",
       "      <td>270</td>\n",
       "    </tr>\n",
       "    <tr>\n",
       "      <th>3</th>\n",
       "      <td>6318506</td>\n",
       "      <td>Ooma</td>\n",
       "      <td>162</td>\n",
       "      <td>Mandaluyong City</td>\n",
       "      <td>Third Floor, Mega Fashion Hall, SM Megamall, O...</td>\n",
       "      <td>SM Megamall, Ortigas, Mandaluyong City</td>\n",
       "      <td>SM Megamall, Ortigas, Mandaluyong City, Mandal...</td>\n",
       "      <td>121.056475</td>\n",
       "      <td>14.585318</td>\n",
       "      <td>Japanese, Sushi</td>\n",
       "      <td>...</td>\n",
       "      <td>Botswana Pula(P)</td>\n",
       "      <td>No</td>\n",
       "      <td>No</td>\n",
       "      <td>No</td>\n",
       "      <td>No</td>\n",
       "      <td>4</td>\n",
       "      <td>4.9</td>\n",
       "      <td>Dark Green</td>\n",
       "      <td>Excellent</td>\n",
       "      <td>365</td>\n",
       "    </tr>\n",
       "    <tr>\n",
       "      <th>4</th>\n",
       "      <td>6314302</td>\n",
       "      <td>Sambo Kojin</td>\n",
       "      <td>162</td>\n",
       "      <td>Mandaluyong City</td>\n",
       "      <td>Third Floor, Mega Atrium, SM Megamall, Ortigas...</td>\n",
       "      <td>SM Megamall, Ortigas, Mandaluyong City</td>\n",
       "      <td>SM Megamall, Ortigas, Mandaluyong City, Mandal...</td>\n",
       "      <td>121.057508</td>\n",
       "      <td>14.584450</td>\n",
       "      <td>Japanese, Korean</td>\n",
       "      <td>...</td>\n",
       "      <td>Botswana Pula(P)</td>\n",
       "      <td>Yes</td>\n",
       "      <td>No</td>\n",
       "      <td>No</td>\n",
       "      <td>No</td>\n",
       "      <td>4</td>\n",
       "      <td>4.8</td>\n",
       "      <td>Dark Green</td>\n",
       "      <td>Excellent</td>\n",
       "      <td>229</td>\n",
       "    </tr>\n",
       "  </tbody>\n",
       "</table>\n",
       "<p>5 rows × 21 columns</p>\n",
       "</div>"
      ],
      "text/plain": [
       "   Restaurant ID         Restaurant Name  Country Code              City  \\\n",
       "0        6317637        Le Petit Souffle           162       Makati City   \n",
       "1        6304287        Izakaya Kikufuji           162       Makati City   \n",
       "2        6300002  Heat - Edsa Shangri-La           162  Mandaluyong City   \n",
       "3        6318506                    Ooma           162  Mandaluyong City   \n",
       "4        6314302             Sambo Kojin           162  Mandaluyong City   \n",
       "\n",
       "                                             Address  \\\n",
       "0  Third Floor, Century City Mall, Kalayaan Avenu...   \n",
       "1  Little Tokyo, 2277 Chino Roces Avenue, Legaspi...   \n",
       "2  Edsa Shangri-La, 1 Garden Way, Ortigas, Mandal...   \n",
       "3  Third Floor, Mega Fashion Hall, SM Megamall, O...   \n",
       "4  Third Floor, Mega Atrium, SM Megamall, Ortigas...   \n",
       "\n",
       "                                     Locality  \\\n",
       "0   Century City Mall, Poblacion, Makati City   \n",
       "1  Little Tokyo, Legaspi Village, Makati City   \n",
       "2  Edsa Shangri-La, Ortigas, Mandaluyong City   \n",
       "3      SM Megamall, Ortigas, Mandaluyong City   \n",
       "4      SM Megamall, Ortigas, Mandaluyong City   \n",
       "\n",
       "                                    Locality Verbose   Longitude   Latitude  \\\n",
       "0  Century City Mall, Poblacion, Makati City, Mak...  121.027535  14.565443   \n",
       "1  Little Tokyo, Legaspi Village, Makati City, Ma...  121.014101  14.553708   \n",
       "2  Edsa Shangri-La, Ortigas, Mandaluyong City, Ma...  121.056831  14.581404   \n",
       "3  SM Megamall, Ortigas, Mandaluyong City, Mandal...  121.056475  14.585318   \n",
       "4  SM Megamall, Ortigas, Mandaluyong City, Mandal...  121.057508  14.584450   \n",
       "\n",
       "                           Cuisines  ...          Currency Has Table booking  \\\n",
       "0        French, Japanese, Desserts  ...  Botswana Pula(P)               Yes   \n",
       "1                          Japanese  ...  Botswana Pula(P)               Yes   \n",
       "2  Seafood, Asian, Filipino, Indian  ...  Botswana Pula(P)               Yes   \n",
       "3                   Japanese, Sushi  ...  Botswana Pula(P)                No   \n",
       "4                  Japanese, Korean  ...  Botswana Pula(P)               Yes   \n",
       "\n",
       "  Has Online delivery Is delivering now Switch to order menu Price range  \\\n",
       "0                  No                No                   No           3   \n",
       "1                  No                No                   No           3   \n",
       "2                  No                No                   No           4   \n",
       "3                  No                No                   No           4   \n",
       "4                  No                No                   No           4   \n",
       "\n",
       "   Aggregate rating  Rating color Rating text Votes  \n",
       "0               4.8    Dark Green   Excellent   314  \n",
       "1               4.5    Dark Green   Excellent   591  \n",
       "2               4.4         Green   Very Good   270  \n",
       "3               4.9    Dark Green   Excellent   365  \n",
       "4               4.8    Dark Green   Excellent   229  \n",
       "\n",
       "[5 rows x 21 columns]"
      ]
     },
     "execution_count": 5,
     "metadata": {},
     "output_type": "execute_result"
    }
   ],
   "source": [
    "# Display basic info to verify loading\n",
    "print(\"Dataset loaded successfully!\")\n",
    "df.head()"
   ]
  },
  {
   "cell_type": "markdown",
   "id": "cf8c4759-1ca7-4a1a-9de2-73a26c373469",
   "metadata": {},
   "source": [
    "## 2: Explore the Dataset (Rows and Columns)"
   ]
  },
  {
   "cell_type": "code",
   "execution_count": 7,
   "id": "a057febf-b18e-47a9-a37d-d6ec15d28c86",
   "metadata": {},
   "outputs": [
    {
     "name": "stdout",
     "output_type": "stream",
     "text": [
      "Number of Rows: 9551\n",
      "Number of Columns: 21\n"
     ]
    }
   ],
   "source": [
    "# Get the number of rows and columns\n",
    "rows, cols = df.shape\n",
    "print(f\"Number of Rows: {rows}\")\n",
    "print(f\"Number of Columns: {cols}\")"
   ]
  },
  {
   "cell_type": "code",
   "execution_count": 9,
   "id": "21d34631-e06d-40b2-9d85-1e9067107b7b",
   "metadata": {},
   "outputs": [
    {
     "name": "stdout",
     "output_type": "stream",
     "text": [
      "\n",
      "Column Names:\n",
      "['Restaurant ID', 'Restaurant Name', 'Country Code', 'City', 'Address', 'Locality', 'Locality Verbose', 'Longitude', 'Latitude', 'Cuisines', 'Average Cost for two', 'Currency', 'Has Table booking', 'Has Online delivery', 'Is delivering now', 'Switch to order menu', 'Price range', 'Aggregate rating', 'Rating color', 'Rating text', 'Votes']\n"
     ]
    }
   ],
   "source": [
    "# Display column names for reference\n",
    "print(\"\\nColumn Names:\")\n",
    "print(df.columns.tolist())"
   ]
  },
  {
   "cell_type": "markdown",
   "id": "624fece4-b026-49aa-a2e8-4e299db48741",
   "metadata": {},
   "source": [
    "## 3: Check for Missing Values and Handle Them"
   ]
  },
  {
   "cell_type": "code",
   "execution_count": 14,
   "id": "13064f70-eeb9-490b-a84a-7824b6b1657e",
   "metadata": {},
   "outputs": [
    {
     "name": "stdout",
     "output_type": "stream",
     "text": [
      "\n",
      "Missing Values in Each Column:\n",
      "Restaurant ID           0\n",
      "Restaurant Name         0\n",
      "Country Code            0\n",
      "City                    0\n",
      "Address                 0\n",
      "Locality                0\n",
      "Locality Verbose        0\n",
      "Longitude               0\n",
      "Latitude                0\n",
      "Cuisines                9\n",
      "Average Cost for two    0\n",
      "Currency                0\n",
      "Has Table booking       0\n",
      "Has Online delivery     0\n",
      "Is delivering now       0\n",
      "Switch to order menu    0\n",
      "Price range             0\n",
      "Aggregate rating        0\n",
      "Rating color            0\n",
      "Rating text             0\n",
      "Votes                   0\n",
      "dtype: int64\n"
     ]
    }
   ],
   "source": [
    "# Check for missing values\n",
    "missing_values = df.isnull().sum()\n",
    "print(\"\\nMissing Values in Each Column:\")\n",
    "print(missing_values)"
   ]
  },
  {
   "cell_type": "code",
   "execution_count": 16,
   "id": "de8eaf9b-9c6b-43be-886d-4f1120054b04",
   "metadata": {},
   "outputs": [
    {
     "name": "stdout",
     "output_type": "stream",
     "text": [
      "\n",
      "Percentage of Missing Values:\n",
      "Restaurant ID           0.000000\n",
      "Restaurant Name         0.000000\n",
      "Country Code            0.000000\n",
      "City                    0.000000\n",
      "Address                 0.000000\n",
      "Locality                0.000000\n",
      "Locality Verbose        0.000000\n",
      "Longitude               0.000000\n",
      "Latitude                0.000000\n",
      "Cuisines                0.094231\n",
      "Average Cost for two    0.000000\n",
      "Currency                0.000000\n",
      "Has Table booking       0.000000\n",
      "Has Online delivery     0.000000\n",
      "Is delivering now       0.000000\n",
      "Switch to order menu    0.000000\n",
      "Price range             0.000000\n",
      "Aggregate rating        0.000000\n",
      "Rating color            0.000000\n",
      "Rating text             0.000000\n",
      "Votes                   0.000000\n",
      "dtype: float64\n"
     ]
    }
   ],
   "source": [
    "# Percentage of missing values\n",
    "missing_percent = (missing_values / rows) * 100\n",
    "print(\"\\nPercentage of Missing Values:\")\n",
    "print(missing_percent)"
   ]
  },
  {
   "cell_type": "code",
   "execution_count": 18,
   "id": "33ef17ad-bfd8-45c8-a87e-fd3fec95323c",
   "metadata": {},
   "outputs": [],
   "source": [
    "# Handling missing values\n",
    "# Strategy: \n",
    "# - Drop rows where 'Aggregate rating' is missing (target variable)\n",
    "# - Impute 'Cuisines' with 'Unknown' (categorical)\n",
    "# - Other columns: assess impact, impute or drop if significant"
   ]
  },
  {
   "cell_type": "code",
   "execution_count": 20,
   "id": "d0de554f-6e72-4952-a604-97959358725e",
   "metadata": {},
   "outputs": [
    {
     "name": "stdout",
     "output_type": "stream",
     "text": [
      "\n",
      "No missing 'Aggregate rating' values.\n"
     ]
    }
   ],
   "source": [
    "# Drop rows where 'Aggregate rating' is missing (if any)\n",
    "if df['Aggregate rating'].isnull().sum() > 0:\n",
    "    df = df.dropna(subset=['Aggregate rating'])\n",
    "    print(\"\\nDropped rows with missing 'Aggregate rating'.\")\n",
    "else:\n",
    "    print(\"\\nNo missing 'Aggregate rating' values.\")"
   ]
  },
  {
   "cell_type": "code",
   "execution_count": 22,
   "id": "6e06c526-0c66-4251-bc9a-c0423a8d6be4",
   "metadata": {},
   "outputs": [
    {
     "name": "stdout",
     "output_type": "stream",
     "text": [
      "\n",
      "Imputed missing 'Cuisines' with 'Unknown'.\n",
      "\n",
      "Remaining Missing Values:\n",
      "Restaurant ID           0\n",
      "Restaurant Name         0\n",
      "Country Code            0\n",
      "City                    0\n",
      "Address                 0\n",
      "Locality                0\n",
      "Locality Verbose        0\n",
      "Longitude               0\n",
      "Latitude                0\n",
      "Cuisines                0\n",
      "Average Cost for two    0\n",
      "Currency                0\n",
      "Has Table booking       0\n",
      "Has Online delivery     0\n",
      "Is delivering now       0\n",
      "Switch to order menu    0\n",
      "Price range             0\n",
      "Aggregate rating        0\n",
      "Rating color            0\n",
      "Rating text             0\n",
      "Votes                   0\n",
      "dtype: int64\n"
     ]
    }
   ],
   "source": [
    "# Impute 'Cuisines' with 'Unknown'\n",
    "df['Cuisines'] = df['Cuisines'].fillna('Unknown')\n",
    "print(\"\\nImputed missing 'Cuisines' with 'Unknown'.\")\n",
    "\n",
    "# Check remaining missing values after handling\n",
    "print(\"\\nRemaining Missing Values:\")\n",
    "print(df.isnull().sum())"
   ]
  },
  {
   "cell_type": "markdown",
   "id": "89d6fe93-51a1-41f5-83ab-0618434c2723",
   "metadata": {},
   "source": [
    "## 4: Perform Data Type Conversion"
   ]
  },
  {
   "cell_type": "code",
   "execution_count": 25,
   "id": "e0e3dda4-8490-49ba-a1dd-724b355859cf",
   "metadata": {},
   "outputs": [
    {
     "name": "stdout",
     "output_type": "stream",
     "text": [
      "\n",
      "Current Data Types:\n",
      "Restaurant ID             int64\n",
      "Restaurant Name          object\n",
      "Country Code              int64\n",
      "City                     object\n",
      "Address                  object\n",
      "Locality                 object\n",
      "Locality Verbose         object\n",
      "Longitude               float64\n",
      "Latitude                float64\n",
      "Cuisines                 object\n",
      "Average Cost for two      int64\n",
      "Currency                 object\n",
      "Has Table booking        object\n",
      "Has Online delivery      object\n",
      "Is delivering now        object\n",
      "Switch to order menu     object\n",
      "Price range               int64\n",
      "Aggregate rating        float64\n",
      "Rating color             object\n",
      "Rating text              object\n",
      "Votes                     int64\n",
      "dtype: object\n"
     ]
    }
   ],
   "source": [
    "# Display current data types\n",
    "print(\"\\nCurrent Data Types:\")\n",
    "print(df.dtypes)"
   ]
  },
  {
   "cell_type": "code",
   "execution_count": 27,
   "id": "0c98fd1d-3b9a-402f-83cb-45a2578e4ba1",
   "metadata": {},
   "outputs": [],
   "source": [
    "# Convert data types if necessary\n",
    "# Ensure numerical columns are float/int\n",
    "numerical_cols = ['Average Cost for two', 'Price range', 'Aggregate rating', 'Votes']\n",
    "for col in numerical_cols:\n",
    "    df[col] = pd.to_numeric(df[col], errors='coerce')  # Convert to numeric, NaN for invalid"
   ]
  },
  {
   "cell_type": "code",
   "execution_count": 29,
   "id": "13af4764-3527-4867-a06e-340d1e0a3f01",
   "metadata": {},
   "outputs": [
    {
     "name": "stdout",
     "output_type": "stream",
     "text": [
      "\n",
      "Missing Values After Conversion:\n",
      "Average Cost for two    0\n",
      "Price range             0\n",
      "Aggregate rating        0\n",
      "Votes                   0\n",
      "dtype: int64\n"
     ]
    }
   ],
   "source": [
    "# Check for any new NaNs introduced by conversion\n",
    "print(\"\\nMissing Values After Conversion:\")\n",
    "print(df[numerical_cols].isnull().sum())"
   ]
  },
  {
   "cell_type": "code",
   "execution_count": 31,
   "id": "5a6e6c0a-90d5-4a50-85a9-8f99b3c05494",
   "metadata": {},
   "outputs": [],
   "source": [
    "# Convert categorical columns to 'category' type for efficiency (optional)\n",
    "categorical_cols = ['Country Code', 'City', 'Cuisines', 'Currency', 'Has Table booking', \n",
    "                    'Has Online delivery', 'Is delivering now', 'Switch to order menu', \n",
    "                    'Rating color', 'Rating text']\n",
    "for col in categorical_cols:\n",
    "    df[col] = df[col].astype('category')"
   ]
  },
  {
   "cell_type": "code",
   "execution_count": 33,
   "id": "a184223f-2455-4665-a8ed-2e229d08358e",
   "metadata": {},
   "outputs": [
    {
     "name": "stdout",
     "output_type": "stream",
     "text": [
      "\n",
      "Updated Data Types:\n",
      "Restaurant ID              int64\n",
      "Restaurant Name           object\n",
      "Country Code            category\n",
      "City                    category\n",
      "Address                   object\n",
      "Locality                  object\n",
      "Locality Verbose          object\n",
      "Longitude                float64\n",
      "Latitude                 float64\n",
      "Cuisines                category\n",
      "Average Cost for two       int64\n",
      "Currency                category\n",
      "Has Table booking       category\n",
      "Has Online delivery     category\n",
      "Is delivering now       category\n",
      "Switch to order menu    category\n",
      "Price range                int64\n",
      "Aggregate rating         float64\n",
      "Rating color            category\n",
      "Rating text             category\n",
      "Votes                      int64\n",
      "dtype: object\n"
     ]
    }
   ],
   "source": [
    "# Verify updated data types\n",
    "print(\"\\nUpdated Data Types:\")\n",
    "print(df.dtypes)"
   ]
  },
  {
   "cell_type": "markdown",
   "id": "be5da9a6-bbea-4267-adbd-001d7f2e8dbb",
   "metadata": {},
   "source": [
    "## 5: Analyze the Distribution of the Target Variable (\"Aggregate rating\")"
   ]
  },
  {
   "cell_type": "code",
   "execution_count": 36,
   "id": "b89ca02f-0640-4b18-94d6-02a63a56da81",
   "metadata": {},
   "outputs": [
    {
     "name": "stdout",
     "output_type": "stream",
     "text": [
      "\n",
      "Statistics of 'Aggregate rating':\n",
      "count    9551.000000\n",
      "mean        2.666370\n",
      "std         1.516378\n",
      "min         0.000000\n",
      "25%         2.500000\n",
      "50%         3.200000\n",
      "75%         3.700000\n",
      "max         4.900000\n",
      "Name: Aggregate rating, dtype: float64\n"
     ]
    }
   ],
   "source": [
    "# Basic statistics of 'Aggregate rating'\n",
    "print(\"\\nStatistics of 'Aggregate rating':\")\n",
    "print(df['Aggregate rating'].describe())"
   ]
  },
  {
   "cell_type": "code",
   "execution_count": 38,
   "id": "e9ae7a85-c574-4f82-be05-1fbe574bf3a0",
   "metadata": {},
   "outputs": [
    {
     "data": {
      "image/png": "[encoded data removed]",
      "text/plain": [
       "<Figure size 1000x600 with 1 Axes>"
      ]
     },
     "metadata": {},
     "output_type": "display_data"
    }
   ],
   "source": [
    "# Visualize the distribution\n",
    "plt.figure(figsize=(10, 6))\n",
    "sns.histplot(df['Aggregate rating'], bins=20, kde=True)\n",
    "plt.title('Distribution of Aggregate Rating')\n",
    "plt.xlabel('Aggregate Rating')\n",
    "plt.ylabel('Frequency')\n",
    "plt.show()"
   ]
  },
  {
   "cell_type": "code",
   "execution_count": 40,
   "id": "8f5aa0a3-d882-4a2f-8026-d466faa446a6",
   "metadata": {},
   "outputs": [],
   "source": [
    "# Check for class imbalance (e.g., grouping into categories)\n",
    "# Define bins for ratings: Poor (0-2), Average (2-3), Good (3-4), Excellent (4-5)\n",
    "bins = [0, 2, 3, 4, 5]\n",
    "labels = ['Poor', 'Average', 'Good', 'Excellent']\n",
    "df['Rating Category'] = pd.cut(df['Aggregate rating'], bins=bins, labels=labels, include_lowest=True)"
   ]
  },
  {
   "cell_type": "code",
   "execution_count": 42,
   "id": "7a8dadc7-38aa-4d4d-8b32-3c03ebd450a0",
   "metadata": {},
   "outputs": [
    {
     "name": "stdout",
     "output_type": "stream",
     "text": [
      "\n",
      "Distribution of Rating Categories (%):\n",
      "Rating Category\n",
      "Good         45.942833\n",
      "Poor         22.594493\n",
      "Average      19.798974\n",
      "Excellent    11.663700\n",
      "Name: proportion, dtype: float64\n"
     ]
    }
   ],
   "source": [
    "# Count per category\n",
    "rating_dist = df['Rating Category'].value_counts(normalize=True) * 100\n",
    "print(\"\\nDistribution of Rating Categories (%):\")\n",
    "print(rating_dist)"
   ]
  },
  {
   "cell_type": "code",
   "execution_count": 44,
   "id": "e385dac7-2869-4e33-9bcb-a9d01b33a225",
   "metadata": {},
   "outputs": [
    {
     "data": {
      "image/png": "[encoded data removed]",
      "text/plain": [
       "<Figure size 800x600 with 1 Axes>"
      ]
     },
     "metadata": {},
     "output_type": "display_data"
    }
   ],
   "source": [
    "# Visualize\n",
    "plt.figure(figsize=(8, 6))\n",
    "sns.barplot(x=rating_dist.index, y=rating_dist.values)\n",
    "plt.title('Rating Category Distribution')\n",
    "plt.xlabel('Rating Category')\n",
    "plt.ylabel('Percentage (%)')\n",
    "plt.show()"
   ]
  },
  {
   "cell_type": "code",
   "execution_count": 46,
   "id": "f48127ac-7ee1-4999-a31b-38b5249ea506",
   "metadata": {},
   "outputs": [
    {
     "name": "stdout",
     "output_type": "stream",
     "text": [
      "\n",
      "Class Imbalance Assessment:\n",
      "No significant class imbalance detected.\n"
     ]
    }
   ],
   "source": [
    "# Assess imbalance\n",
    "print(\"\\nClass Imbalance Assessment:\")\n",
    "if any(rating_dist < 10):  # Arbitrary threshold for imbalance (e.g., <10% in a category)\n",
    "    print(\"Potential class imbalance detected: Some categories have low representation.\")\n",
    "else:\n",
    "    print(\"No significant class imbalance detected.\")"
   ]
  },
  {
   "cell_type": "code",
   "execution_count": null,
   "id": "fd07db70-bb4c-43f2-8166-b1d059e47447",
   "metadata": {},
   "outputs": [],
   "source": []
  }
 ],
 "metadata": {
  "kernelspec": {
   "display_name": "Python 3 (ipykernel)",
   "language": "python",
   "name": "python3"
  },
  "language_info": {
   "codemirror_mode": {
    "name": "ipython",
    "version": 3
   },
   "file_extension": ".py",
   "mimetype": "text/x-python",
   "name": "python",
   "nbconvert_exporter": "python",
   "pygments_lexer": "ipython3",
   "version": "3.12.4"
  }
 },
 "nbformat": 4,
 "nbformat_minor": 5
}

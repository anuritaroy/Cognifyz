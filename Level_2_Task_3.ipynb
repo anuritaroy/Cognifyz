{
 "cells": [
  {
   "cell_type": "code",
   "execution_count": 1,
   "id": "19661ac0-a400-47dd-bf28-3e97d1300ae9",
   "metadata": {},
   "outputs": [],
   "source": [
    "# Import libraries\n",
    "import pandas as pd\n",
    "import numpy as np"
   ]
  },
  {
   "cell_type": "code",
   "execution_count": 3,
   "id": "e8791bd7-7207-4a2e-8bfa-6fdcb61df577",
   "metadata": {},
   "outputs": [],
   "source": [
    "# Load the dataset\n",
    "df = pd.read_csv(\"C:\\\\Users\\\\amiro\\\\Desktop\\\\Internship cognifiz\\\\Dataset .csv\")"
   ]
  },
  {
   "cell_type": "code",
   "execution_count": 5,
   "id": "291b2af4-3822-445e-a4ff-fc0cd5ec9ef5",
   "metadata": {},
   "outputs": [
    {
     "name": "stdout",
     "output_type": "stream",
     "text": [
      "\n",
      "Added 'Name Length' feature (number of characters in Restaurant Name).\n",
      "Added 'Address Length' feature (number of characters in Address).\n",
      "Added 'Cuisine Count' feature (number of cuisines offered).\n",
      "\n",
      "Sample of New Features:\n",
      "          Restaurant Name  Name Length  \\\n",
      "0        Le Petit Souffle           16   \n",
      "1        Izakaya Kikufuji           16   \n",
      "2  Heat - Edsa Shangri-La           22   \n",
      "3                    Ooma            4   \n",
      "4             Sambo Kojin           11   \n",
      "\n",
      "                                             Address  Address Length  \\\n",
      "0  Third Floor, Century City Mall, Kalayaan Avenu...              71   \n",
      "1  Little Tokyo, 2277 Chino Roces Avenue, Legaspi...              67   \n",
      "2  Edsa Shangri-La, 1 Garden Way, Ortigas, Mandal...              56   \n",
      "3  Third Floor, Mega Fashion Hall, SM Megamall, O...              70   \n",
      "4  Third Floor, Mega Atrium, SM Megamall, Ortigas...              64   \n",
      "\n",
      "                           Cuisines  Cuisine Count  \n",
      "0        French, Japanese, Desserts              3  \n",
      "1                          Japanese              1  \n",
      "2  Seafood, Asian, Filipino, Indian              4  \n",
      "3                   Japanese, Sushi              2  \n",
      "4                  Japanese, Korean              2  \n"
     ]
    }
   ],
   "source": [
    "# Step 1: Extract Additional Features\n",
    "df['Name Length'] = df['Restaurant Name'].str.len()\n",
    "print(\"\\nAdded 'Name Length' feature (number of characters in Restaurant Name).\")\n",
    "\n",
    "df['Address Length'] = df['Address'].str.len()\n",
    "print(\"Added 'Address Length' feature (number of characters in Address).\")\n",
    "\n",
    "df['Cuisine Count'] = df['Cuisines'].str.split(', ').apply(lambda x: len(x) if isinstance(x, list) else 1)\n",
    "print(\"Added 'Cuisine Count' feature (number of cuisines offered).\")\n",
    "\n",
    "print(\"\\nSample of New Features:\")\n",
    "print(df[['Restaurant Name', 'Name Length', 'Address', 'Address Length', 'Cuisines', 'Cuisine Count']].head())"
   ]
  },
  {
   "cell_type": "code",
   "execution_count": 7,
   "id": "ea667b10-5fa2-4b2d-aea8-8a5cb1a3d5ab",
   "metadata": {},
   "outputs": [
    {
     "name": "stdout",
     "output_type": "stream",
     "text": [
      "\n",
      "Encoded 'Has Table booking' as 'Has Table Booking Num' (1 = Yes, 0 = No).\n",
      "Encoded 'Has Online delivery' as 'Has Online Delivery Num' (1 = Yes, 0 = No).\n",
      "Encoded 'Rating color' as 'Rating Color Num' (1-5 scale based on rating quality).\n",
      "\n",
      "Sample of Encoded Features:\n",
      "  Has Table booking  Has Table Booking Num Has Online delivery  \\\n",
      "0               Yes                      1                  No   \n",
      "1               Yes                      1                  No   \n",
      "2               Yes                      1                  No   \n",
      "3                No                      0                  No   \n",
      "4               Yes                      1                  No   \n",
      "\n",
      "   Has Online Delivery Num Rating color  Rating Color Num  \n",
      "0                        0   Dark Green               5.0  \n",
      "1                        0   Dark Green               5.0  \n",
      "2                        0        Green               4.0  \n",
      "3                        0   Dark Green               5.0  \n",
      "4                        0   Dark Green               5.0  \n"
     ]
    }
   ],
   "source": [
    "# Step 2: Encode Categorical Variables\n",
    "df['Has Table Booking Num'] = df['Has Table booking'].map({'Yes': 1, 'No': 0})\n",
    "print(\"\\nEncoded 'Has Table booking' as 'Has Table Booking Num' (1 = Yes, 0 = No).\")\n",
    "\n",
    "df['Has Online Delivery Num'] = df['Has Online delivery'].map({'Yes': 1, 'No': 0})\n",
    "print(\"Encoded 'Has Online delivery' as 'Has Online Delivery Num' (1 = Yes, 0 = No).\")\n",
    "\n",
    "rating_color_map = {\n",
    "    'Red': 1, 'Orange': 2, 'Yellow': 3, 'Green': 4, 'Dark Green': 5\n",
    "}\n",
    "df['Rating Color Num'] = df['Rating color'].map(rating_color_map)\n",
    "print(\"Encoded 'Rating color' as 'Rating Color Num' (1-5 scale based on rating quality).\")\n",
    "\n",
    "print(\"\\nSample of Encoded Features:\")\n",
    "print(df[['Has Table booking', 'Has Table Booking Num', \n",
    "          'Has Online delivery', 'Has Online Delivery Num', \n",
    "          'Rating color', 'Rating Color Num']].head())"
   ]
  },
  {
   "cell_type": "code",
   "execution_count": 9,
   "id": "d7ea1543-5a47-4864-a852-28351ee34f0e",
   "metadata": {},
   "outputs": [
    {
     "name": "stdout",
     "output_type": "stream",
     "text": [
      "\n",
      "Missing Values in New Features:\n",
      "Name Length                   0\n",
      "Address Length                0\n",
      "Cuisine Count                 0\n",
      "Has Table Booking Num         0\n",
      "Has Online Delivery Num       0\n",
      "Rating Color Num           2148\n",
      "dtype: int64\n",
      "\n",
      "Basic Statistics of New Features:\n",
      "       Name Length  Address Length  Cuisine Count  Has Table Booking Num  \\\n",
      "count  9551.000000     9551.000000    9551.000000            9551.000000   \n",
      "mean     15.164171       53.536698       2.064601               0.121244   \n",
      "std       6.858392       17.122035       1.092724               0.326428   \n",
      "min       2.000000       13.000000       1.000000               0.000000   \n",
      "25%      10.000000       41.000000       1.000000               0.000000   \n",
      "50%      14.000000       52.000000       2.000000               0.000000   \n",
      "75%      19.000000       64.000000       3.000000               0.000000   \n",
      "max      54.000000      132.000000       8.000000               1.000000   \n",
      "\n",
      "       Has Online Delivery Num  Rating Color Num  \n",
      "count              9551.000000       7403.000000  \n",
      "mean                  0.256622          2.672025  \n",
      "std                   0.436792          0.897900  \n",
      "min                   0.000000          1.000000  \n",
      "25%                   0.000000          2.000000  \n",
      "50%                   0.000000          2.000000  \n",
      "75%                   1.000000          3.000000  \n",
      "max                   1.000000          5.000000  \n",
      "\n",
      "Updated dataset saved as 'Dataset_with_features.csv'.\n"
     ]
    }
   ],
   "source": [
    "# Step 3: Verify New Features\n",
    "print(\"\\nMissing Values in New Features:\")\n",
    "print(df[['Name Length', 'Address Length', 'Cuisine Count', \n",
    "          'Has Table Booking Num', 'Has Online Delivery Num', 'Rating Color Num']].isnull().sum())\n",
    "\n",
    "print(\"\\nBasic Statistics of New Features:\")\n",
    "print(df[['Name Length', 'Address Length', 'Cuisine Count', \n",
    "          'Has Table Booking Num', 'Has Online Delivery Num', 'Rating Color Num']].describe())\n",
    "\n",
    "df.to_csv(\"Dataset_with_features.csv\", index=False)\n",
    "print(\"\\nUpdated dataset saved as 'Dataset_with_features.csv'.\")"
   ]
  },
  {
   "cell_type": "code",
   "execution_count": null,
   "id": "ff79c277-d70a-4e59-9361-e805196ac5bc",
   "metadata": {},
   "outputs": [],
   "source": []
  }
 ],
 "metadata": {
  "kernelspec": {
   "display_name": "Python 3 (ipykernel)",
   "language": "python",
   "name": "python3"
  },
  "language_info": {
   "codemirror_mode": {
    "name": "ipython",
    "version": 3
   },
   "file_extension": ".py",
   "mimetype": "text/x-python",
   "name": "python",
   "nbconvert_exporter": "python",
   "pygments_lexer": "ipython3",
   "version": "3.12.4"
  }
 },
 "nbformat": 4,
 "nbformat_minor": 5
}
